{
 "cells": [
  {
   "cell_type": "code",
   "execution_count": 11,
   "metadata": {},
   "outputs": [
    {
     "name": "stdout",
     "output_type": "stream",
     "text": [
      "CROSSFD\n",
      "CPTWPACK\n",
      "CPCRSFDTW\n",
      "TWCDC930N\n",
      "7TWTV\n",
      "0706TW\n",
      "10TICKET\n",
      "TWCOUP\n",
      "4BEANS\n",
      "2NTW0706\n"
     ]
    }
   ],
   "source": [
    "import requests as rq\n",
    "from bs4 import BeautifulSoup\n",
    "from urllib.request import urlopen\n",
    "import json\n",
    "import re\n",
    "\n",
    "# 取得二之國公告事項清單\n",
    "def getNoticeList(url):\n",
    "    response = urlopen(url)\n",
    "    data_json = json.loads(response.read())\n",
    "    return (data_json['articleList'])\n",
    "# 取得各公告事項中，所有表格文字\n",
    "def getCouponList(url):\n",
    "    response = urlopen(url)\n",
    "    data_json = json.loads(response.read())\n",
    "    soup = BeautifulSoup((data_json['article']['content']), \"lxml\")\n",
    "    return soup.find_all(\"span\", {\"style\": \"white-space:pre-wrap\"})\n",
    "\n",
    "\n",
    "\n",
    "notices = getNoticeList(\"https://forum.netmarble.com/api/game/ennt/official/forum/ennt_t/search/article/list?rows=15&start=0&keyword=%E5%BA%8F%E8%99%9F&menuSeq=3&_=1635532351151\")\n",
    "\n",
    "\n",
    "for notice in notices:\n",
    "    #   過濾標題文章為序號or兌換卷\n",
    "    if notice['title'].find(\"序號\") != -1 or notice['title'].find(\"兌換券\") != -1:\n",
    "        couponList = getCouponList(\"https://forum.netmarble.com/api/game/ennt/official/forum/ennt_t/article/\"+str(notice['id'])+\"?menuSeq=3&viewFlag=false&_=1635533937312\")\n",
    "        for coupon in couponList:\n",
    "            if re.match(\"^[A-Za-z0-9]*$\", coupon.text) and len(coupon.text) >=5:\n",
    "                #   result\n",
    "                print(coupon.text)\n",
    " \n",
    "\n",
    "\n"
   ]
  },
  {
   "cell_type": "code",
   "execution_count": null,
   "metadata": {},
   "outputs": [],
   "source": []
  }
 ],
 "metadata": {
  "kernelspec": {
   "display_name": "Python 3",
   "language": "python",
   "name": "python3"
  },
  "language_info": {
   "codemirror_mode": {
    "name": "ipython",
    "version": 3
   },
   "file_extension": ".py",
   "mimetype": "text/x-python",
   "name": "python",
   "nbconvert_exporter": "python",
   "pygments_lexer": "ipython3",
   "version": "3.8.2"
  }
 },
 "nbformat": 4,
 "nbformat_minor": 4
}
